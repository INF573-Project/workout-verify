{
 "cells": [
  {
   "cell_type": "code",
   "execution_count": 1,
   "metadata": {},
   "outputs": [
    {
     "name": "stderr",
     "output_type": "stream",
     "text": [
      "/Users/patricktourniaire/Library/Caches/pypoetry/virtualenvs/workout-verify-ltG9Ybba-py3.10/lib/python3.10/site-packages/tqdm/auto.py:21: TqdmWarning: IProgress not found. Please update jupyter and ipywidgets. See https://ipywidgets.readthedocs.io/en/stable/user_install.html\n",
      "  from .autonotebook import tqdm as notebook_tqdm\n"
     ]
    }
   ],
   "source": [
    "from mmpose.apis import MMPoseInferencer"
   ]
  },
  {
   "cell_type": "code",
   "execution_count": 5,
   "metadata": {},
   "outputs": [
    {
     "name": "stdout",
     "output_type": "stream",
     "text": [
      "Loads checkpoint by http backend from path: https://download.openmmlab.com/mmpose/v1/body_3d_keypoint/pose_lift/h36m/motionbert_ft_h36m-d80af323_20230531.pth\n"
     ]
    },
    {
     "name": "stderr",
     "output_type": "stream",
     "text": [
      "Downloading: \"https://download.openmmlab.com/mmpose/v1/body_3d_keypoint/pose_lift/h36m/motionbert_ft_h36m-d80af323_20230531.pth\" to /Users/patricktourniaire/.cache/torch/hub/checkpoints/motionbert_ft_h36m-d80af323_20230531.pth\n"
     ]
    },
    {
     "ename": "AttributeError",
     "evalue": "'ConfigDict' object has no attribute 'data_mode'",
     "output_type": "error",
     "traceback": [
      "\u001b[0;31m---------------------------------------------------------------------------\u001b[0m",
      "\u001b[0;31mKeyError\u001b[0m                                  Traceback (most recent call last)",
      "File \u001b[0;32m~/Library/Caches/pypoetry/virtualenvs/workout-verify-ltG9Ybba-py3.10/lib/python3.10/site-packages/mmengine/config/config.py:107\u001b[0m, in \u001b[0;36mConfigDict.__getattr__\u001b[0;34m(self, name)\u001b[0m\n\u001b[1;32m    106\u001b[0m \u001b[39mtry\u001b[39;00m:\n\u001b[0;32m--> 107\u001b[0m     value \u001b[39m=\u001b[39m \u001b[39msuper\u001b[39;49m()\u001b[39m.\u001b[39;49m\u001b[39m__getattr__\u001b[39;49m(name)\n\u001b[1;32m    108\u001b[0m     \u001b[39mif\u001b[39;00m \u001b[39misinstance\u001b[39m(value, (LazyAttr, LazyObject)) \u001b[39mand\u001b[39;00m \u001b[39mnot\u001b[39;00m \u001b[39mself\u001b[39m\u001b[39m.\u001b[39mlazy:\n",
      "File \u001b[0;32m~/Library/Caches/pypoetry/virtualenvs/workout-verify-ltG9Ybba-py3.10/lib/python3.10/site-packages/addict/addict.py:67\u001b[0m, in \u001b[0;36mDict.__getattr__\u001b[0;34m(self, item)\u001b[0m\n\u001b[1;32m     66\u001b[0m \u001b[39mdef\u001b[39;00m \u001b[39m__getattr__\u001b[39m(\u001b[39mself\u001b[39m, item):\n\u001b[0;32m---> 67\u001b[0m     \u001b[39mreturn\u001b[39;00m \u001b[39mself\u001b[39;49m\u001b[39m.\u001b[39;49m\u001b[39m__getitem__\u001b[39;49m(item)\n",
      "File \u001b[0;32m~/Library/Caches/pypoetry/virtualenvs/workout-verify-ltG9Ybba-py3.10/lib/python3.10/site-packages/mmengine/config/config.py:136\u001b[0m, in \u001b[0;36mConfigDict.__getitem__\u001b[0;34m(self, key)\u001b[0m\n\u001b[1;32m    135\u001b[0m \u001b[39mdef\u001b[39;00m \u001b[39m__getitem__\u001b[39m(\u001b[39mself\u001b[39m, key):\n\u001b[0;32m--> 136\u001b[0m     \u001b[39mreturn\u001b[39;00m \u001b[39mself\u001b[39m\u001b[39m.\u001b[39mbuild_lazy(\u001b[39msuper\u001b[39;49m()\u001b[39m.\u001b[39;49m\u001b[39m__getitem__\u001b[39;49m(key))\n",
      "File \u001b[0;32m~/Library/Caches/pypoetry/virtualenvs/workout-verify-ltG9Ybba-py3.10/lib/python3.10/site-packages/mmengine/config/config.py:103\u001b[0m, in \u001b[0;36mConfigDict.__missing__\u001b[0;34m(self, name)\u001b[0m\n\u001b[1;32m    102\u001b[0m \u001b[39mdef\u001b[39;00m \u001b[39m__missing__\u001b[39m(\u001b[39mself\u001b[39m, name):\n\u001b[0;32m--> 103\u001b[0m     \u001b[39mraise\u001b[39;00m \u001b[39mKeyError\u001b[39;00m(name)\n",
      "\u001b[0;31mKeyError\u001b[0m: 'data_mode'",
      "\nDuring handling of the above exception, another exception occurred:\n",
      "\u001b[0;31mAttributeError\u001b[0m                            Traceback (most recent call last)",
      "\u001b[1;32m/Users/patricktourniaire/Public/Polytechnique/inf573-computer_vision/workout-verify/notebooks/model_exploration.ipynb Cell 2\u001b[0m line \u001b[0;36m3\n\u001b[1;32m      <a href='vscode-notebook-cell:/Users/patricktourniaire/Public/Polytechnique/inf573-computer_vision/workout-verify/notebooks/model_exploration.ipynb#W1sZmlsZQ%3D%3D?line=0'>1</a>\u001b[0m img_path \u001b[39m=\u001b[39m \u001b[39m'\u001b[39m\u001b[39m../data/examples/squat.jpg\u001b[39m\u001b[39m'\u001b[39m\n\u001b[0;32m----> <a href='vscode-notebook-cell:/Users/patricktourniaire/Public/Polytechnique/inf573-computer_vision/workout-verify/notebooks/model_exploration.ipynb#W1sZmlsZQ%3D%3D?line=2'>3</a>\u001b[0m inferencer \u001b[39m=\u001b[39m MMPoseInferencer(\u001b[39m'\u001b[39;49m\u001b[39mhuman3d\u001b[39;49m\u001b[39m'\u001b[39;49m)\n\u001b[1;32m      <a href='vscode-notebook-cell:/Users/patricktourniaire/Public/Polytechnique/inf573-computer_vision/workout-verify/notebooks/model_exploration.ipynb#W1sZmlsZQ%3D%3D?line=3'>4</a>\u001b[0m result_generator \u001b[39m=\u001b[39m inferencer(img_path)\n\u001b[1;32m      <a href='vscode-notebook-cell:/Users/patricktourniaire/Public/Polytechnique/inf573-computer_vision/workout-verify/notebooks/model_exploration.ipynb#W1sZmlsZQ%3D%3D?line=4'>5</a>\u001b[0m result \u001b[39m=\u001b[39m \u001b[39mnext\u001b[39m(result_generator)\n",
      "File \u001b[0;32m~/Library/Caches/pypoetry/virtualenvs/workout-verify-ltG9Ybba-py3.10/lib/python3.10/site-packages/mmpose/apis/inferencers/mmpose_inferencer.py:93\u001b[0m, in \u001b[0;36mMMPoseInferencer.__init__\u001b[0;34m(self, pose2d, pose2d_weights, pose3d, pose3d_weights, device, scope, det_model, det_weights, det_cat_ids)\u001b[0m\n\u001b[1;32m     88\u001b[0m         \u001b[39mself\u001b[39m\u001b[39m.\u001b[39minferencer \u001b[39m=\u001b[39m Pose3DInferencer(pose3d, pose3d_weights,\n\u001b[1;32m     89\u001b[0m                                            pose2d, pose2d_weights,\n\u001b[1;32m     90\u001b[0m                                            device, scope, det_model,\n\u001b[1;32m     91\u001b[0m                                            det_weights, det_cat_ids)\n\u001b[1;32m     92\u001b[0m \u001b[39melif\u001b[39;00m pose2d \u001b[39mis\u001b[39;00m \u001b[39mnot\u001b[39;00m \u001b[39mNone\u001b[39;00m:\n\u001b[0;32m---> 93\u001b[0m     \u001b[39mself\u001b[39m\u001b[39m.\u001b[39minferencer \u001b[39m=\u001b[39m Pose2DInferencer(pose2d, pose2d_weights, device,\n\u001b[1;32m     94\u001b[0m                                        scope, det_model, det_weights,\n\u001b[1;32m     95\u001b[0m                                        det_cat_ids)\n\u001b[1;32m     96\u001b[0m \u001b[39melse\u001b[39;00m:\n\u001b[1;32m     97\u001b[0m     \u001b[39mraise\u001b[39;00m \u001b[39mValueError\u001b[39;00m(\u001b[39m'\u001b[39m\u001b[39mEither 2d or 3d pose estimation algorithm \u001b[39m\u001b[39m'\u001b[39m\n\u001b[1;32m     98\u001b[0m                      \u001b[39m'\u001b[39m\u001b[39mshould be provided.\u001b[39m\u001b[39m'\u001b[39m)\n",
      "File \u001b[0;32m~/Library/Caches/pypoetry/virtualenvs/workout-verify-ltG9Ybba-py3.10/lib/python3.10/site-packages/mmpose/apis/inferencers/pose2d_inferencer.py:93\u001b[0m, in \u001b[0;36mPose2DInferencer.__init__\u001b[0;34m(self, model, weights, device, scope, det_model, det_weights, det_cat_ids)\u001b[0m\n\u001b[1;32m     90\u001b[0m \u001b[39mself\u001b[39m\u001b[39m.\u001b[39mvisualizer\u001b[39m.\u001b[39mset_dataset_meta(\u001b[39mself\u001b[39m\u001b[39m.\u001b[39mmodel\u001b[39m.\u001b[39mdataset_meta)\n\u001b[1;32m     92\u001b[0m \u001b[39m# initialize detector for top-down models\u001b[39;00m\n\u001b[0;32m---> 93\u001b[0m \u001b[39mif\u001b[39;00m \u001b[39mself\u001b[39;49m\u001b[39m.\u001b[39;49mcfg\u001b[39m.\u001b[39;49mdata_mode \u001b[39m==\u001b[39m \u001b[39m'\u001b[39m\u001b[39mtopdown\u001b[39m\u001b[39m'\u001b[39m:\n\u001b[1;32m     94\u001b[0m     \u001b[39mself\u001b[39m\u001b[39m.\u001b[39m_init_detector(\n\u001b[1;32m     95\u001b[0m         det_model\u001b[39m=\u001b[39mdet_model,\n\u001b[1;32m     96\u001b[0m         det_weights\u001b[39m=\u001b[39mdet_weights,\n\u001b[1;32m     97\u001b[0m         det_cat_ids\u001b[39m=\u001b[39mdet_cat_ids,\n\u001b[1;32m     98\u001b[0m         device\u001b[39m=\u001b[39mdevice,\n\u001b[1;32m     99\u001b[0m     )\n\u001b[1;32m    101\u001b[0m \u001b[39mself\u001b[39m\u001b[39m.\u001b[39m_video_input \u001b[39m=\u001b[39m \u001b[39mFalse\u001b[39;00m\n",
      "File \u001b[0;32m~/Library/Caches/pypoetry/virtualenvs/workout-verify-ltG9Ybba-py3.10/lib/python3.10/site-packages/mmengine/config/config.py:1493\u001b[0m, in \u001b[0;36mConfig.__getattr__\u001b[0;34m(self, name)\u001b[0m\n\u001b[1;32m   1492\u001b[0m \u001b[39mdef\u001b[39;00m \u001b[39m__getattr__\u001b[39m(\u001b[39mself\u001b[39m, name: \u001b[39mstr\u001b[39m) \u001b[39m-\u001b[39m\u001b[39m>\u001b[39m Any:\n\u001b[0;32m-> 1493\u001b[0m     \u001b[39mreturn\u001b[39;00m \u001b[39mgetattr\u001b[39;49m(\u001b[39mself\u001b[39;49m\u001b[39m.\u001b[39;49m_cfg_dict, name)\n",
      "File \u001b[0;32m~/Library/Caches/pypoetry/virtualenvs/workout-verify-ltG9Ybba-py3.10/lib/python3.10/site-packages/mmengine/config/config.py:111\u001b[0m, in \u001b[0;36mConfigDict.__getattr__\u001b[0;34m(self, name)\u001b[0m\n\u001b[1;32m    109\u001b[0m         value \u001b[39m=\u001b[39m value\u001b[39m.\u001b[39mbuild()\n\u001b[1;32m    110\u001b[0m \u001b[39mexcept\u001b[39;00m \u001b[39mKeyError\u001b[39;00m:\n\u001b[0;32m--> 111\u001b[0m     \u001b[39mraise\u001b[39;00m \u001b[39mAttributeError\u001b[39;00m(\u001b[39mf\u001b[39m\u001b[39m\"\u001b[39m\u001b[39m'\u001b[39m\u001b[39m{\u001b[39;00m\u001b[39mself\u001b[39m\u001b[39m.\u001b[39m\u001b[39m__class__\u001b[39m\u001b[39m.\u001b[39m\u001b[39m__name__\u001b[39m\u001b[39m}\u001b[39;00m\u001b[39m'\u001b[39m\u001b[39m object has no \u001b[39m\u001b[39m\"\u001b[39m\n\u001b[1;32m    112\u001b[0m                          \u001b[39mf\u001b[39m\u001b[39m\"\u001b[39m\u001b[39mattribute \u001b[39m\u001b[39m'\u001b[39m\u001b[39m{\u001b[39;00mname\u001b[39m}\u001b[39;00m\u001b[39m'\u001b[39m\u001b[39m\"\u001b[39m)\n\u001b[1;32m    113\u001b[0m \u001b[39mexcept\u001b[39;00m \u001b[39mException\u001b[39;00m \u001b[39mas\u001b[39;00m e:\n\u001b[1;32m    114\u001b[0m     \u001b[39mraise\u001b[39;00m e\n",
      "\u001b[0;31mAttributeError\u001b[0m: 'ConfigDict' object has no attribute 'data_mode'"
     ]
    }
   ],
   "source": [
    "img_path = '../data/examples/squat.jpg'\n",
    "\n",
    "inferencer = MMPoseInferencer('human')\n",
    "result_generator = inferencer(img_path)\n",
    "result = next(result_generator)\n",
    "\n",
    "result"
   ]
  },
  {
   "cell_type": "code",
   "execution_count": null,
   "metadata": {},
   "outputs": [],
   "source": []
  }
 ],
 "metadata": {
  "kernelspec": {
   "display_name": "workout-verify-ltG9Ybba-py3.10",
   "language": "python",
   "name": "python3"
  },
  "language_info": {
   "codemirror_mode": {
    "name": "ipython",
    "version": 3
   },
   "file_extension": ".py",
   "mimetype": "text/x-python",
   "name": "python",
   "nbconvert_exporter": "python",
   "pygments_lexer": "ipython3",
   "version": "3.10.12"
  }
 },
 "nbformat": 4,
 "nbformat_minor": 2
}
