{
 "cells": [
  {
   "cell_type": "code",
   "execution_count": 2,
   "metadata": {},
   "outputs": [
    {
     "name": "stderr",
     "output_type": "stream",
     "text": [
      "/Users/patricktourniaire/Library/Caches/pypoetry/virtualenvs/workout-verify-ltG9Ybba-py3.10/lib/python3.10/site-packages/tqdm/auto.py:21: TqdmWarning: IProgress not found. Please update jupyter and ipywidgets. See https://ipywidgets.readthedocs.io/en/stable/user_install.html\n",
      "  from .autonotebook import tqdm as notebook_tqdm\n"
     ]
    }
   ],
   "source": [
    "from mmpose.apis import MMPoseInferencer"
   ]
  },
  {
   "cell_type": "code",
   "execution_count": 3,
   "metadata": {},
   "outputs": [
    {
     "name": "stdout",
     "output_type": "stream",
     "text": [
      "Loads checkpoint by http backend from path: https://download.openmmlab.com/mmpose/v1/projects/rtmposev1/rtmpose-m_simcc-body7_pt-body7_420e-256x192-e48f03d0_20230504.pth\n",
      "11/09 17:58:16 - mmengine - \u001b[5m\u001b[4m\u001b[33mWARNING\u001b[0m - Failed to search registry with scope \"mmpose\" in the \"function\" registry tree. As a workaround, the current \"function\" registry in \"mmengine\" is used to build instance. This may cause unexpected failure when running the built modules. Please check whether \"mmpose\" is a correct scope, or whether the registry is initialized.\n",
      "Loads checkpoint by http backend from path: https://download.openmmlab.com/mmdetection/v3.0/rtmdet/rtmdet_m_8xb32-300e_coco/rtmdet_m_8xb32-300e_coco_20220719_112220-229f527c.pth\n",
      "The model and loaded state dict do not match exactly\n",
      "\n",
      "unexpected key in source state_dict: data_preprocessor.mean, data_preprocessor.std\n",
      "\n",
      "11/09 17:58:18 - mmengine - \u001b[5m\u001b[4m\u001b[33mWARNING\u001b[0m - Failed to search registry with scope \"mmdet\" in the \"function\" registry tree. As a workaround, the current \"function\" registry in \"mmengine\" is used to build instance. This may cause unexpected failure when running the built modules. Please check whether \"mmdet\" is a correct scope, or whether the registry is initialized.\n"
     ]
    },
    {
     "data": {
      "text/html": [
       "<pre style=\"white-space:pre;overflow-x:auto;line-height:normal;font-family:Menlo,'DejaVu Sans Mono',consolas,'Courier New',monospace\">/Users/patricktourniaire/Library/Caches/pypoetry/virtualenvs/workout-verify-ltG9Ybba-py3.10/lib/python3.10/site-pac\n",
       "kages/rich/live.py:231: UserWarning: install \"ipywidgets\" for Jupyter support\n",
       "  warnings.warn('install \"ipywidgets\" for Jupyter support')\n",
       "</pre>\n"
      ],
      "text/plain": [
       "/Users/patricktourniaire/Library/Caches/pypoetry/virtualenvs/workout-verify-ltG9Ybba-py3.10/lib/python3.10/site-pac\n",
       "kages/rich/live.py:231: UserWarning: install \"ipywidgets\" for Jupyter support\n",
       "  warnings.warn('install \"ipywidgets\" for Jupyter support')\n"
      ]
     },
     "metadata": {},
     "output_type": "display_data"
    },
    {
     "data": {
      "text/html": [
       "<pre style=\"white-space:pre;overflow-x:auto;line-height:normal;font-family:Menlo,'DejaVu Sans Mono',consolas,'Courier New',monospace\">/Users/patricktourniaire/Library/Caches/pypoetry/virtualenvs/workout-verify-ltG9Ybba-py3.10/lib/python3.10/site-pac\n",
       "kages/torch/functional.py:504: UserWarning: torch.meshgrid: in an upcoming release, it will be required to pass the\n",
       "indexing argument. (Triggered internally at \n",
       "/Users/runner/work/pytorch/pytorch/pytorch/aten/src/ATen/native/TensorShape.cpp:3527.)\n",
       "  return _VF.meshgrid(tensors, **kwargs)  # type: ignore[attr-defined]\n",
       "</pre>\n"
      ],
      "text/plain": [
       "/Users/patricktourniaire/Library/Caches/pypoetry/virtualenvs/workout-verify-ltG9Ybba-py3.10/lib/python3.10/site-pac\n",
       "kages/torch/functional.py:504: UserWarning: torch.meshgrid: in an upcoming release, it will be required to pass the\n",
       "indexing argument. (Triggered internally at \n",
       "/Users/runner/work/pytorch/pytorch/pytorch/aten/src/ATen/native/TensorShape.cpp:3527.)\n",
       "  return _VF.meshgrid(tensors, **kwargs)  # type: ignore[attr-defined]\n"
      ]
     },
     "metadata": {},
     "output_type": "display_data"
    },
    {
     "data": {
      "text/html": [
       "<pre style=\"white-space:pre;overflow-x:auto;line-height:normal;font-family:Menlo,'DejaVu Sans Mono',consolas,'Courier New',monospace\"></pre>\n"
      ],
      "text/plain": []
     },
     "metadata": {},
     "output_type": "display_data"
    },
    {
     "data": {
      "text/html": [
       "<pre style=\"white-space:pre;overflow-x:auto;line-height:normal;font-family:Menlo,'DejaVu Sans Mono',consolas,'Courier New',monospace\">\n",
       "</pre>\n"
      ],
      "text/plain": [
       "\n"
      ]
     },
     "metadata": {},
     "output_type": "display_data"
    },
    {
     "name": "stderr",
     "output_type": "stream",
     "text": [
      "2023-11-09 17:58:19.974 Python[39202:1109539] WARNING: Secure coding is not enabled for restorable state! Enable secure coding by implementing NSApplicationDelegate.applicationSupportsSecureRestorableState: and returning YES.\n"
     ]
    },
    {
     "data": {
      "text/plain": [
       "defaultdict(list,\n",
       "            {'visualization': [],\n",
       "             'predictions': [[{'keypoints': [[147.8860626220703,\n",
       "                  22.44318962097168],\n",
       "                 [150.75584411621094, 18.85597801208496],\n",
       "                 [146.45118713378906, 19.57341957092285],\n",
       "                 [160.80003356933594, 18.85597801208496],\n",
       "                 [147.1686248779297, 21.725746154785156],\n",
       "                 [171.56166076660156, 33.922264099121094],\n",
       "                 [147.8860626220703, 37.150753021240234],\n",
       "                 [156.85409545898438, 42.172847747802734],\n",
       "                 [126.36280822753906, 42.53156661987305],\n",
       "                 [137.483154296875, 45.76005554199219],\n",
       "                 [104.83953857421875, 43.607730865478516],\n",
       "                 [186.26922607421875, 74.0990219116211],\n",
       "                 [167.9744415283203, 76.61006927490234],\n",
       "                 [177.659912109375, 93.11123657226562],\n",
       "                 [142.5052490234375, 91.317626953125],\n",
       "                 [181.60585021972656, 127.90717315673828],\n",
       "                 [156.85409545898438, 121.80892181396484]],\n",
       "                'keypoint_scores': [0.7731460332870483,\n",
       "                 0.7605965733528137,\n",
       "                 0.8295488357543945,\n",
       "                 0.903694748878479,\n",
       "                 0.5605000257492065,\n",
       "                 0.8068503141403198,\n",
       "                 0.7160458564758301,\n",
       "                 0.5791023969650269,\n",
       "                 0.6817350387573242,\n",
       "                 0.643302321434021,\n",
       "                 0.7688072919845581,\n",
       "                 0.8252499103546143,\n",
       "                 0.789655327796936,\n",
       "                 0.8499361872673035,\n",
       "                 0.8472058773040771,\n",
       "                 0.8463383913040161,\n",
       "                 0.8757603168487549],\n",
       "                'bbox': ([86.6882553100586,\n",
       "                  5.191403865814209,\n",
       "                  196.88735961914062,\n",
       "                  143.7240753173828],),\n",
       "                'bbox_score': 0.8853133}]]})"
      ]
     },
     "execution_count": 3,
     "metadata": {},
     "output_type": "execute_result"
    },
    {
     "ename": "",
     "evalue": "",
     "output_type": "error",
     "traceback": [
      "\u001b[1;31mThe Kernel crashed while executing code in the the current cell or a previous cell. Please review the code in the cell(s) to identify a possible cause of the failure. Click <a href='https://aka.ms/vscodeJupyterKernelCrash'>here</a> for more info. View Jupyter <a href='command:jupyter.viewOutput'>log</a> for further details."
     ]
    }
   ],
   "source": [
    "img_path = '../data/examples/squat.jpg'\n",
    "\n",
    "inferencer = MMPoseInferencer('human')\n",
    "result_generator = inferencer(img_path, show=True)\n",
    "result = next(result_generator)\n",
    "\n",
    "result"
   ]
  },
  {
   "cell_type": "code",
   "execution_count": null,
   "metadata": {},
   "outputs": [],
   "source": []
  }
 ],
 "metadata": {
  "kernelspec": {
   "display_name": "workout-verify-ltG9Ybba-py3.10",
   "language": "python",
   "name": "python3"
  },
  "language_info": {
   "codemirror_mode": {
    "name": "ipython",
    "version": 3
   },
   "file_extension": ".py",
   "mimetype": "text/x-python",
   "name": "python",
   "nbconvert_exporter": "python",
   "pygments_lexer": "ipython3",
   "version": "3.10.12"
  }
 },
 "nbformat": 4,
 "nbformat_minor": 2
}
